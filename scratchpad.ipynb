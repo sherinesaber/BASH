{
  "cells": [
    {
      "cell_type": "markdown",
      "metadata": {
        "id": "view-in-github",
        "colab_type": "text"
      },
      "source": [
        "<a href=\"https://colab.research.google.com/github/sherinesaber/BASH/blob/main/scratchpad.ipynb\" target=\"_parent\"><img src=\"https://colab.research.google.com/assets/colab-badge.svg\" alt=\"Open In Colab\"/></a>"
      ]
    },
    {
      "cell_type": "code",
      "source": [
        "!apt-get install bc"
      ],
      "metadata": {
        "colab": {
          "base_uri": "https://localhost:8080/"
        },
        "id": "CMH1vN9bxtEP",
        "outputId": "22cd6e3b-df33-4879-e1de-c5fcb0ead0fc"
      },
      "execution_count": 1,
      "outputs": [
        {
          "output_type": "stream",
          "name": "stdout",
          "text": [
            "Reading package lists... Done\n",
            "Building dependency tree       \n",
            "Reading state information... Done\n",
            "The following NEW packages will be installed:\n",
            "  bc\n",
            "0 upgraded, 1 newly installed, 0 to remove and 39 not upgraded.\n",
            "Need to get 86.2 kB of archives.\n",
            "After this operation, 223 kB of additional disk space will be used.\n",
            "Get:1 http://archive.ubuntu.com/ubuntu bionic/main amd64 bc amd64 1.07.1-2 [86.2 kB]\n",
            "Fetched 86.2 kB in 0s (223 kB/s)\n",
            "Selecting previously unselected package bc.\n",
            "(Reading database ... 156210 files and directories currently installed.)\n",
            "Preparing to unpack .../archives/bc_1.07.1-2_amd64.deb ...\n",
            "Unpacking bc (1.07.1-2) ...\n",
            "Setting up bc (1.07.1-2) ...\n",
            "Processing triggers for man-db (2.8.3-2ubuntu0.1) ...\n"
          ]
        }
      ]
    },
    {
      "cell_type": "markdown",
      "source": [
        "**Integer arithmetic. Arithmetic without fractions. This ignores any fractions that are derived. For example, 8 divided by 3 would yield the whole number 2.** "
      ],
      "metadata": {
        "id": "-fkLRLYCyaPg"
      }
    },
    {
      "cell_type": "code",
      "source": [
        "#we can use $ and the two round brackets\n",
        "!k=2; j=5; x=$((k+j)); echo $x"
      ],
      "metadata": {
        "id": "RAug71RzvlgZ",
        "colab": {
          "base_uri": "https://localhost:8080/"
        },
        "outputId": "e0c9ef87-e6c5-46c3-fa64-3eae545a6161"
      },
      "execution_count": 2,
      "outputs": [
        {
          "output_type": "stream",
          "name": "stdout",
          "text": [
            "7\n"
          ]
        }
      ]
    },
    {
      "cell_type": "code",
      "source": [
        "#alternatively, we can use let and this way we will not need $ and the two round brackets\n",
        "!k=2; j=5; let x=k+j; echo $x"
      ],
      "metadata": {
        "colab": {
          "base_uri": "https://localhost:8080/"
        },
        "id": "sf7RGAVAwKvR",
        "outputId": "b54974c9-53ac-422b-8d28-f692908fac38"
      },
      "execution_count": 3,
      "outputs": [
        {
          "output_type": "stream",
          "name": "stdout",
          "text": [
            "7\n"
          ]
        }
      ]
    },
    {
      "cell_type": "code",
      "source": [
        "# using declate -i means this variable is a number\n",
        "!declare -i k=2; declare -i j=7; declare -i x; x=k+j; echo $x"
      ],
      "metadata": {
        "colab": {
          "base_uri": "https://localhost:8080/"
        },
        "id": "4kpLT9ebwPBz",
        "outputId": "559412c8-945c-4314-d206-62aee57a0ee4"
      },
      "execution_count": 4,
      "outputs": [
        {
          "output_type": "stream",
          "name": "stdout",
          "text": [
            "9\n"
          ]
        }
      ]
    },
    {
      "cell_type": "code",
      "source": [
        "# bc also can do the trick\n",
        "!echo '2 / 2' | bc"
      ],
      "metadata": {
        "colab": {
          "base_uri": "https://localhost:8080/"
        },
        "id": "6_eFG969XvUk",
        "outputId": "cafebb2c-f8c1-49b5-ce8b-af4b51de3477"
      },
      "execution_count": 16,
      "outputs": [
        {
          "output_type": "stream",
          "name": "stdout",
          "text": [
            "1\n"
          ]
        }
      ]
    },
    {
      "cell_type": "markdown",
      "source": [
        "As shown below there is an inssue with the methods mentioned as they removed the fraction ( did not approximate )"
      ],
      "metadata": {
        "id": "iMSn3OoMxBTI"
      }
    },
    {
      "cell_type": "code",
      "source": [
        "!echo '3 / 4' | bc"
      ],
      "metadata": {
        "colab": {
          "base_uri": "https://localhost:8080/"
        },
        "id": "6bCWoZ-7aEfR",
        "outputId": "3c5a87c0-7876-4e44-bba3-a2997b8d5d8e"
      },
      "execution_count": 18,
      "outputs": [
        {
          "output_type": "stream",
          "name": "stdout",
          "text": [
            "0\n"
          ]
        }
      ]
    },
    {
      "cell_type": "code",
      "source": [
        "!echo '2 / 5' | bc"
      ],
      "metadata": {
        "colab": {
          "base_uri": "https://localhost:8080/"
        },
        "id": "2H7yLWm1xUKe",
        "outputId": "90251bc6-1970-4c08-a362-5a4d59b17529"
      },
      "execution_count": 19,
      "outputs": [
        {
          "output_type": "stream",
          "name": "stdout",
          "text": [
            "0\n"
          ]
        }
      ]
    },
    {
      "cell_type": "code",
      "source": [
        "!k=2; j=5; let x=k/j; echo $x"
      ],
      "metadata": {
        "colab": {
          "base_uri": "https://localhost:8080/"
        },
        "id": "Rdbr6aBj2GOF",
        "outputId": "4d32908a-89e8-49ad-f8c7-22f58b0fe4b5"
      },
      "execution_count": 23,
      "outputs": [
        {
          "output_type": "stream",
          "name": "stdout",
          "text": [
            "0\n"
          ]
        }
      ]
    },
    {
      "cell_type": "code",
      "source": [
        "! k=2; j=5; echo $k/$j | bc"
      ],
      "metadata": {
        "colab": {
          "base_uri": "https://localhost:8080/"
        },
        "id": "bTyexAA60GvJ",
        "outputId": "4de97787-ce5b-4a47-b4c5-b9d7bb1c436a"
      },
      "execution_count": 21,
      "outputs": [
        {
          "output_type": "stream",
          "name": "stdout",
          "text": [
            "0\n"
          ]
        }
      ]
    },
    {
      "cell_type": "code",
      "source": [
        "! k=6.5; j=2.7; echo $k/$j | bc"
      ],
      "metadata": {
        "colab": {
          "base_uri": "https://localhost:8080/"
        },
        "id": "3TctTs642Vn0",
        "outputId": "3cc651ba-8970-412c-9360-be3ec5892327"
      },
      "execution_count": 24,
      "outputs": [
        {
          "output_type": "stream",
          "name": "stdout",
          "text": [
            "2\n"
          ]
        }
      ]
    },
    {
      "cell_type": "code",
      "source": [
        "!echo 6.5 / 2.7 | bc"
      ],
      "metadata": {
        "colab": {
          "base_uri": "https://localhost:8080/"
        },
        "id": "WWdQegi-yI8L",
        "outputId": "4b7d1b2c-3878-439c-fbf4-bd1501880f14"
      },
      "execution_count": 9,
      "outputs": [
        {
          "output_type": "stream",
          "name": "stdout",
          "text": [
            "2\n"
          ]
        }
      ]
    },
    {
      "cell_type": "markdown",
      "source": [
        "But we want the fraction so: "
      ],
      "metadata": {
        "id": "SrEJw_gH0Iq1"
      }
    },
    {
      "cell_type": "code",
      "source": [
        "# scale is very useful in that matter\n",
        "!echo 'scale=3; 3/4' | bc"
      ],
      "metadata": {
        "colab": {
          "base_uri": "https://localhost:8080/"
        },
        "id": "x9OkKtstafNr",
        "outputId": "ce5e250b-3dee-4bb5-d91a-96f714e31d48"
      },
      "execution_count": 25,
      "outputs": [
        {
          "output_type": "stream",
          "name": "stdout",
          "text": [
            ".750\n"
          ]
        }
      ]
    },
    {
      "cell_type": "code",
      "source": [
        "!echo 'scale=3; 2/5' | bc"
      ],
      "metadata": {
        "colab": {
          "base_uri": "https://localhost:8080/"
        },
        "id": "c9bbh-QQyQ8d",
        "outputId": "a392b908-22c6-46e3-8041-59f91c603314"
      },
      "execution_count": 10,
      "outputs": [
        {
          "output_type": "stream",
          "name": "stdout",
          "text": [
            ".400\n"
          ]
        }
      ]
    },
    {
      "cell_type": "code",
      "source": [
        "!echo 'scale=3; 6.5/2.7' | bc"
      ],
      "metadata": {
        "colab": {
          "base_uri": "https://localhost:8080/"
        },
        "id": "REImiaJ4yLdn",
        "outputId": "fe8a7b63-f730-4b3b-bbca-a01dad89af7b"
      },
      "execution_count": 11,
      "outputs": [
        {
          "output_type": "stream",
          "name": "stdout",
          "text": [
            "2.407\n"
          ]
        }
      ]
    },
    {
      "cell_type": "code",
      "source": [
        "!echo 'scale=10; 6.5/2.7' | bc"
      ],
      "metadata": {
        "colab": {
          "base_uri": "https://localhost:8080/"
        },
        "id": "EQuqxNpN88po",
        "outputId": "97286fd7-b774-4fc9-cd8d-072ee225b3ae"
      },
      "execution_count": 12,
      "outputs": [
        {
          "output_type": "stream",
          "name": "stdout",
          "text": [
            "2.4074074074\n"
          ]
        }
      ]
    },
    {
      "cell_type": "code",
      "source": [
        "!echo \"var1 = 6.5 ; var2 = 2.7 ; var3 =var1/var2; var3\" | bc"
      ],
      "metadata": {
        "colab": {
          "base_uri": "https://localhost:8080/"
        },
        "id": "pY35JUoE_kqh",
        "outputId": "d74eb4a8-f4cb-4660-ceda-63161aca8807"
      },
      "execution_count": 13,
      "outputs": [
        {
          "output_type": "stream",
          "name": "stdout",
          "text": [
            "2\n"
          ]
        }
      ]
    },
    {
      "cell_type": "code",
      "source": [
        "!echo \"scale=3; var1 = 6.5 ; var2 = 2.7 ; var3 =var1/var2; var3\" | bc"
      ],
      "metadata": {
        "colab": {
          "base_uri": "https://localhost:8080/"
        },
        "id": "lMbQqMNa9gTv",
        "outputId": "2189df45-fbee-48e3-b3bb-7ae3f3c3500b"
      },
      "execution_count": 14,
      "outputs": [
        {
          "output_type": "stream",
          "name": "stdout",
          "text": [
            "2.407\n"
          ]
        }
      ]
    },
    {
      "cell_type": "code",
      "source": [
        "!echo \"scale=3; var1 = 6.5 / 2.7; var2 = 14 * var1; var2 \"| bc"
      ],
      "metadata": {
        "colab": {
          "base_uri": "https://localhost:8080/"
        },
        "id": "P0Ma1Cu-8-FT",
        "outputId": "4201ee4f-343b-40b3-96e5-a693fdab68dd"
      },
      "execution_count": 15,
      "outputs": [
        {
          "output_type": "stream",
          "name": "stdout",
          "text": [
            "33.698\n"
          ]
        }
      ]
    },
    {
      "cell_type": "markdown",
      "source": [
        "round brackets are useful for conditions"
      ],
      "metadata": {
        "id": "JCzlY37aa1tN"
      }
    },
    {
      "cell_type": "code",
      "source": [
        "!  x=1; if (( x == 0 )); then echo \"the number is zero\"; else echo \"the number does not equal zero\"; fi"
      ],
      "metadata": {
        "colab": {
          "base_uri": "https://localhost:8080/"
        },
        "id": "16q6gnzCa4zZ",
        "outputId": "37ed2cc9-4b0e-401f-c757-3de8b01ac1f4"
      },
      "execution_count": 39,
      "outputs": [
        {
          "output_type": "stream",
          "name": "stdout",
          "text": [
            "the number does not equal zero\n"
          ]
        }
      ]
    },
    {
      "cell_type": "code",
      "source": [
        "!  x=105; if (( x >= 100 && x <= 105 )); then echo \"the number is within range\"; else echo \"the number is out of the range\"; fi"
      ],
      "metadata": {
        "colab": {
          "base_uri": "https://localhost:8080/"
        },
        "id": "wMfXKVrxhBlF",
        "outputId": "06687cfb-1190-4210-e99d-9990c95f6594"
      },
      "execution_count": 46,
      "outputs": [
        {
          "output_type": "stream",
          "name": "stdout",
          "text": [
            "the number is within range\n"
          ]
        }
      ]
    },
    {
      "cell_type": "code",
      "source": [
        "!  x=105; if (( x >= 100 && x <= 104 )); then echo \"the number is within range\"; else echo \"the number is out of the range\"; fi"
      ],
      "metadata": {
        "colab": {
          "base_uri": "https://localhost:8080/"
        },
        "id": "TWxeamcmhcZg",
        "outputId": "90303573-5439-4ca3-f3da-a34fca4f11a1"
      },
      "execution_count": 45,
      "outputs": [
        {
          "output_type": "stream",
          "name": "stdout",
          "text": [
            "the number is out of the range\n"
          ]
        }
      ]
    },
    {
      "cell_type": "code",
      "source": [
        ""
      ],
      "metadata": {
        "id": "fW20pYcalXlA"
      },
      "execution_count": null,
      "outputs": []
    }
  ],
  "metadata": {
    "colab": {
      "name": "scratchpad",
      "provenance": [],
      "collapsed_sections": [],
      "include_colab_link": true
    },
    "kernelspec": {
      "display_name": "Python 3",
      "name": "python3"
    }
  },
  "nbformat": 4,
  "nbformat_minor": 0
}